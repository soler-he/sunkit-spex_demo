{
 "cells": [
  {
   "cell_type": "code",
   "execution_count": 1,
   "metadata": {},
   "outputs": [],
   "source": [
    "import astropy.units as u\n",
    "import numpy as np\n",
    "import matplotlib.pyplot as plt\n",
    "\n",
    "from astropy.modeling import fitting\n",
    "from sunkit_spex.models.physical.albedo import Albedo\n",
    "from sunkit_spex.models.physical.nonthermal import ThickTarget\n",
    "from plotting.plotter import plot_fit_results\n",
    "from stats.chi import reduced_chi_squared\n",
    "from sunkit_spex.models.physical.thermal import ThermalEmission\n",
    "from sunkit_spex.models.scaling import InverseSquareFluxScaling\n",
    "from sunkit_spex.models.instrument_response import MatrixModel\n",
    "from sunkit_spex.spectrum.spectrum import SpectralAxis\n",
    "from sunkit_spex.spectrum.spectrum import Spectrum\n",
    "from sunkit_spex.extern.stix import STIXLoader\n",
    "\n"
   ]
  },
  {
   "cell_type": "code",
   "execution_count": null,
   "metadata": {},
   "outputs": [],
   "source": [
    "dir = '../spectra/240319/'\n",
    "# Select and load the relevant files located in the directory above for an event on 240319\n",
    "spec = STIXLoader()\n",
    "\n",
    "spec"
   ]
  },
  {
   "cell_type": "code",
   "execution_count": null,
   "metadata": {},
   "outputs": [],
   "source": [
    "# Create a plot of the lightcurve\n",
    "fig = plt.figure(figsize=(9,6))\n",
    "spec.\n",
    "plt.show()"
   ]
  },
  {
   "cell_type": "code",
   "execution_count": null,
   "metadata": {},
   "outputs": [],
   "source": [
    "# Check the lightcurve and select a 10 second time interval around the non-thermal peak\n",
    "\n",
    "start = \n",
    "end = \n",
    "\n",
    "spec.start_event_time=start\n",
    "spec.end_event_time=end\n",
    "\n",
    "fig = plt.figure(figsize=(9,6))\n",
    "spec.\n",
    "plt.show()"
   ]
  },
  {
   "cell_type": "code",
   "execution_count": null,
   "metadata": {},
   "outputs": [],
   "source": [
    "# Here we need to select the count_channel_bins from the loaded spectrum\n",
    "\n",
    "count_channel_bins = spec[]\n",
    "indices_fit = np.where( (count_channel_bins[:,1] >= 5.0)  & (count_channel_bins[:,1] <= 55.0) )[0]\n",
    "\n",
    "# Use this to select the data for selected fit_range\n",
    "counts = (spec['count_rate'][indices_fit] *u.ct *u.keV**-1 *u.s**-1) \n",
    "counts_err = np.array(spec['count_rate_error'][indices_fit]) \n",
    "srm = spec['srm'][:,indices_fit]\n"
   ]
  },
  {
   "cell_type": "code",
   "execution_count": null,
   "metadata": {},
   "outputs": [],
   "source": [
    "# define the spectrum object and the bin centers\n",
    "\n",
    "obj_spec_photon  = Spectrum()\n",
    "obj_spec_counts = Spectrum()\n",
    "\n",
    "ph_energies_centers =  \n",
    "counts_energies_centers =  \n"
   ]
  },
  {
   "cell_type": "code",
   "execution_count": 6,
   "metadata": {},
   "outputs": [],
   "source": [
    "srm_model = MatrixModel(\n",
    "    matrix=srm, input_axis=obj_spec_photon._spectral_axis._bin_edges, output_axis=obj_spec_counts._spectral_axis._bin_edges, \n",
    "    c=1 * u.ct *u.cm**2 * u.ph**-1, \n",
    "    _input_units={\"x\": u.ph *u.keV**-1 *u.s**-1 * u.cm**-2}, \n",
    "    _output_units={\"y\": u.ct* u.keV**-1 * u.s**-1}\n",
    ")"
   ]
  },
  {
   "cell_type": "code",
   "execution_count": 7,
   "metadata": {},
   "outputs": [],
   "source": [
    "# Define the individual model components\n",
    "\n",
    "# Create the composite model from individual model components\n",
    "\n",
    "ph_model_4fit = \n"
   ]
  },
  {
   "cell_type": "code",
   "execution_count": 8,
   "metadata": {},
   "outputs": [],
   "source": [
    "# Free and fix the relevant parameters\n"
   ]
  },
  {
   "cell_type": "code",
   "execution_count": null,
   "metadata": {},
   "outputs": [],
   "source": [
    "# Select an astropy fitter\n",
    "pfit = \n",
    "\n",
    "# Perform the fit\n",
    "new_model = pfit()"
   ]
  },
  {
   "cell_type": "code",
   "execution_count": null,
   "metadata": {},
   "outputs": [],
   "source": [
    "# Take a look at the fitted model\n",
    "print(new_model)"
   ]
  },
  {
   "cell_type": "code",
   "execution_count": null,
   "metadata": {},
   "outputs": [],
   "source": [
    "# Calculate and print out the fit statistic\n",
    "\n",
    "red_chi_squared = reduced_chi_squared()\n"
   ]
  },
  {
   "cell_type": "code",
   "execution_count": null,
   "metadata": {},
   "outputs": [],
   "source": [
    "# Plot out the results from the fit\n",
    "\n",
    "save_name = 'Sunkit-Spex_output.pdf'\n",
    "fit_times = f'{start} - {end}'\n",
    "\n",
    "# Enter the correct names to plot out the results\n",
    "plot_fit_results('Count Bin Edges','Photon Bin Edges',\n",
    "                 'Observed Data', 'Uncertainties',\n",
    "                 'Model',save_name,fit_times)"
   ]
  },
  {
   "cell_type": "code",
   "execution_count": null,
   "metadata": {},
   "outputs": [],
   "source": [
    "# Now loop over different consecutive time intervals and produce plots of parameter evolution over time. \n",
    "# Do this initially for the peak where the nonthermal component is required, then do it for the whole time series \n",
    "# inserting and removing the nonthermal component when required. "
   ]
  }
 ],
 "metadata": {
  "kernelspec": {
   "display_name": "sunkit-spex",
   "language": "python",
   "name": "python3"
  },
  "language_info": {
   "codemirror_mode": {
    "name": "ipython",
    "version": 3
   },
   "file_extension": ".py",
   "mimetype": "text/x-python",
   "name": "python",
   "nbconvert_exporter": "python",
   "pygments_lexer": "ipython3",
   "version": "3.12.11"
  }
 },
 "nbformat": 4,
 "nbformat_minor": 2
}
