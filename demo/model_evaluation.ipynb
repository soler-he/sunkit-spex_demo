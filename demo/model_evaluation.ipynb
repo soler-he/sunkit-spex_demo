{
 "cells": [
  {
   "cell_type": "code",
   "execution_count": 1,
   "metadata": {},
   "outputs": [],
   "source": [
    "import astropy.units as u\n",
    "import numpy as np\n",
    "import matplotlib.pyplot as plt\n",
    "from matplotlib.colors import LogNorm\n",
    "from sys import path as sys_path\n",
    "\n",
    "from astropy.visualization import quantity_support\n",
    "from sunkit_spex.models.physical.albedo import Albedo\n",
    "from sunkit_spex.models.physical.nonthermal import ThickTarget\n",
    "from plotting.plotter import plot_fit_results\n",
    "from sunkit_spex.models.physical.thermal import ThermalEmission\n",
    "from sunkit_spex.models.scaling import InverseSquareFluxScaling\n",
    "from sunkit_spex.models.instrument_response import MatrixModel\n",
    "from sunkit_spex.spectrum.spectrum import SpectralAxis\n",
    "from sunkit_spex.data.simulated_data import simulate_square_response_matrix"
   ]
  },
  {
   "cell_type": "code",
   "execution_count": 2,
   "metadata": {},
   "outputs": [],
   "source": [
    "ph_energies_bin_edges = np.linspace(4,80,100)*u.keV\n",
    "ph_energies_bin_centers = SpectralAxis._centers_from_edges(ph_energies_bin_edges)\n",
    "\n",
    "count_energies_bin_edges  = ph_energies_bin_edges\n",
    "count_energies_bin_centers  = ph_energies_bin_centers"
   ]
  },
  {
   "cell_type": "code",
   "execution_count": null,
   "metadata": {},
   "outputs": [],
   "source": [
    "# Define simulated SRM\n",
    "srm = simulate_square_response_matrix(ph_energies_bin_centers.size)\n",
    "\n",
    "# Ceate SRM model\n",
    "srm_model = MatrixModel(\n",
    "    matrix=srm, input_axis=SpectralAxis(ph_energies_bin_edges), output_axis=SpectralAxis(count_energies_bin_edges), \n",
    "    c=1 * u.ct *u.cm**2 * u.ph**-1, \n",
    "    _input_units={\"x\": u.ph *u.keV**-1 *u.s**-1 * u.cm**-2}, \n",
    "    _output_units={\"y\": u.ct* u.keV**-1 * u.s**-1}\n",
    ")\n",
    "\n",
    "# Plot the srm matrix\n",
    "with quantity_support():\n",
    "    plt.figure()\n",
    "    plt.imshow(\n",
    "        srm_model.matrix,\n",
    "        origin=\"lower\",\n",
    "        extent=(\n",
    "            srm_model.input_axis[0].value,\n",
    "            srm_model.input_axis[-1].value,\n",
    "            srm_model.output_axis[0].value,\n",
    "            srm_model.output_axis[-1].value,\n",
    "        ),\n",
    "        norm=LogNorm(),\n",
    "    )\n",
    "    plt.ylabel(f\"Photon Energies [{srm_model.input_axis.unit}]\")\n",
    "    plt.xlabel(f\"Count Energies [{srm_model.output_axis.unit}]\")\n",
    "    plt.title(\"Simulated SRM\")\n",
    "    plt.show()\n",
    "\n"
   ]
  },
  {
   "cell_type": "code",
   "execution_count": 4,
   "metadata": {},
   "outputs": [],
   "source": [
    "# Define models\n",
    "distance = InverseSquareFluxScaling(1*u.AU)\n",
    "f_vth = ThermalEmission()\n",
    "thick = ThickTarget(break_energy=1500*u.keV,low_e_cutoff=20*u.keV)\n",
    "albedo = Albedo(energy_edges=ph_energies_bin_edges, theta=45*u.deg)\n",
    "\n",
    "# Create composite models\n",
    "ph_model= (((f_vth + thick) * distance ) | albedo) \n",
    "count_model= (((f_vth + thick) * distance ) | albedo)  | srm_model\n"
   ]
  },
  {
   "cell_type": "code",
   "execution_count": null,
   "metadata": {},
   "outputs": [],
   "source": [
    "# Evaluate the models\n",
    "ph_model_eval = ph_model(ph_energies_bin_edges)\n",
    "count_model_eval = count_model(ph_energies_bin_edges)"
   ]
  },
  {
   "cell_type": "code",
   "execution_count": null,
   "metadata": {},
   "outputs": [],
   "source": [
    "print(ph_model_eval)"
   ]
  },
  {
   "cell_type": "code",
   "execution_count": null,
   "metadata": {},
   "outputs": [],
   "source": [
    "print(count_model_eval)"
   ]
  },
  {
   "cell_type": "code",
   "execution_count": null,
   "metadata": {},
   "outputs": [],
   "source": [
    "ph_with_albedo = (((f_vth + thick) * distance ) | albedo)(ph_energies_bin_edges) \n",
    "ph_without_albedo = ((f_vth+thick)*distance)(ph_energies_bin_edges)\n",
    "\n",
    "ph_albedo = ph_with_albedo - ph_without_albedo\n",
    "\n",
    "with quantity_support():\n",
    "    plt.figure()\n",
    "    plt.stairs(ph_model_eval,ph_energies_bin_edges,baseline=None)\n",
    "    plt.stairs((f_vth*distance)(ph_energies_bin_edges),ph_energies_bin_edges,baseline=None)\n",
    "    plt.stairs((thick*distance)(ph_energies_bin_edges),ph_energies_bin_edges,baseline=None)\n",
    "    plt.stairs(ph_albedo,ph_energies_bin_edges,baseline=None)\n",
    "    plt.loglog()\n",
    "    plt.ylim(1e-1,1e6)"
   ]
  },
  {
   "cell_type": "code",
   "execution_count": null,
   "metadata": {},
   "outputs": [],
   "source": [
    "ct_with_albedo = ((((f_vth + thick) * distance ) | albedo)  | srm_model)(ph_energies_bin_edges) \n",
    "ct_without_albedo = (((f_vth + thick) * distance )   | srm_model)(ph_energies_bin_edges)\n",
    "\n",
    "ct_albedo = ct_with_albedo - ct_without_albedo\n",
    "\n",
    "with quantity_support():\n",
    "    plt.figure()\n",
    "    plt.stairs(count_model_eval,count_energies_bin_edges,baseline=None)\n",
    "    plt.stairs(((f_vth*distance)|srm_model)(ph_energies_bin_edges),count_energies_bin_edges,baseline=None)\n",
    "    plt.stairs(((thick*distance)|srm_model)(ph_energies_bin_edges),count_energies_bin_edges,baseline=None)\n",
    "    plt.stairs(ct_albedo,count_energies_bin_edges,baseline=None)\n",
    "    plt.loglog()\n",
    "    plt.ylim(1e-1,1e6)"
   ]
  },
  {
   "cell_type": "code",
   "execution_count": null,
   "metadata": {},
   "outputs": [],
   "source": []
  }
 ],
 "metadata": {
  "kernelspec": {
   "display_name": "sunkit-spex",
   "language": "python",
   "name": "sunkit-spex"
  },
  "language_info": {
   "codemirror_mode": {
    "name": "ipython",
    "version": 3
   },
   "file_extension": ".py",
   "mimetype": "text/x-python",
   "name": "python",
   "nbconvert_exporter": "python",
   "pygments_lexer": "ipython3",
   "version": "3.12.11"
  }
 },
 "nbformat": 4,
 "nbformat_minor": 2
}
