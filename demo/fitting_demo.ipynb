{
 "cells": [
  {
   "cell_type": "code",
   "execution_count": 1,
   "metadata": {},
   "outputs": [],
   "source": [
    "import astropy.units as u\n",
    "import numpy as np\n",
    "import matplotlib.pyplot as plt\n",
    "\n",
    "from astropy.modeling import fitting\n",
    "from sunkit_spex.models.physical.albedo import Albedo\n",
    "from sunkit_spex.models.physical.nonthermal import ThickTarget\n",
    "from plotting.plotter import plot_fit_results\n",
    "from sunkit_spex.models.physical.thermal import ThermalEmission\n",
    "from sunkit_spex.models.scaling import InverseSquareFluxScaling\n",
    "from sunkit_spex.models.instrument_response import MatrixModel\n",
    "from sunkit_spex.spectrum.spectrum import SpectralAxis\n",
    "from sunkit_spex.spectrum.spectrum import Spectrum\n",
    "from sunkit_spex.extern.stix import STIXLoader\n"
   ]
  },
  {
   "cell_type": "code",
   "execution_count": null,
   "metadata": {},
   "outputs": [],
   "source": [
    "dir = 'data/210507/'\n",
    "spec = STIXLoader(spectrum_file=dir+'stx_spectrum_2105070034.fits',srm_file=dir+'stx_srm_2105070034.fits')\n",
    "\n",
    "spec"
   ]
  },
  {
   "cell_type": "code",
   "execution_count": null,
   "metadata": {},
   "outputs": [],
   "source": [
    "start = \"2021-05-07T18:53:00\"\n",
    "end = \"2021-05-07T18:53:20\"\n",
    "\n",
    "spec.start_event_time=start\n",
    "spec.end_event_time=end\n",
    "\n",
    "fig = plt.figure(figsize=(9,6))\n",
    "spec.lightcurve(energy_ranges=[[4,10], [10,30], [25,50]])\n",
    "plt.show()"
   ]
  },
  {
   "cell_type": "code",
   "execution_count": 5,
   "metadata": {},
   "outputs": [],
   "source": [
    "\n",
    "count_channel_bins = spec['count_channel_bins']\n",
    "indices_fit = np.where( (count_channel_bins[:,1] >= 5.0)  & (count_channel_bins[:,1] <= 55.0) )[0]\n",
    "counts = (spec['count_rate'][indices_fit] *u.ct *u.keV**-1 *u.s**-1) \n",
    "counts_err = np.array(spec['count_rate_error'][indices_fit]) \n",
    "\n",
    "srm = spec['srm'][:,indices_fit]\n"
   ]
  },
  {
   "cell_type": "code",
   "execution_count": null,
   "metadata": {},
   "outputs": [],
   "source": [
    "obj_spec_photon  = Spectrum(counts,uncertainty=counts_err,spectral_axis=spec['photon_channel_bins']*u.keV)\n",
    "obj_spec_counts = Spectrum(counts,uncertainty=counts_err,spectral_axis=spec['count_channel_bins'][indices_fit,:]*u.keV)\n",
    "\n",
    "ph_energies_centers =  SpectralAxis._centers_from_edges(obj_spec_photon._spectral_axis._bin_edges)\n",
    "counts_energies_centers =  SpectralAxis._centers_from_edges(obj_spec_counts._spectral_axis._bin_edges)\n"
   ]
  },
  {
   "cell_type": "code",
   "execution_count": 7,
   "metadata": {},
   "outputs": [],
   "source": [
    "srm_model = MatrixModel(\n",
    "    matrix=srm, input_axis=obj_spec_photon._spectral_axis._bin_edges, output_axis=obj_spec_counts._spectral_axis._bin_edges, c=1 * u.ct *u.cm**2 * u.ph**-1, \n",
    "    _input_units={\"x\": u.ph *u.keV**-1 *u.s**-1 * u.cm**-2}, _output_units={\"y\": u.ct* u.keV**-1 * u.s**-1}\n",
    ")"
   ]
  },
  {
   "cell_type": "code",
   "execution_count": 16,
   "metadata": {},
   "outputs": [],
   "source": [
    "distance = InverseSquareFluxScaling(1*u.AU)\n",
    "f_vth = ThermalEmission()\n",
    "thick = ThickTarget(break_energy=1500*u.keV,low_e_cutoff=20*u.keV)\n",
    "albedo = Albedo(energy_edges=obj_spec_photon._spectral_axis._bin_edges, theta=45*u.deg)\n",
    "\n",
    "ph_model_4fit = (((f_vth + thick) * distance ) | albedo)  | srm_model\n"
   ]
  },
  {
   "cell_type": "code",
   "execution_count": 17,
   "metadata": {},
   "outputs": [],
   "source": [
    "ph_model_4fit.theta_3.fixed = True\n",
    "\n",
    "ph_model_4fit.temperature_0.fixed = False\n",
    "ph_model_4fit.emission_measure_0.fixed = False\n",
    "\n",
    "ph_model_4fit.break_energy_1.fixed= True\n",
    "ph_model_4fit.low_e_cutoff_1.fixed = False\n",
    "ph_model_4fit.q_1.fixed = False\n",
    "ph_model_4fit.total_eflux_1.fixed = False\n"
   ]
  },
  {
   "cell_type": "code",
   "execution_count": 18,
   "metadata": {},
   "outputs": [],
   "source": [
    "pfit = fitting.TRFLSQFitter()\n",
    "\n",
    "\n",
    "new_model = pfit(ph_model_4fit,obj_spec_photon._spectral_axis._bin_edges, obj_spec_photon.data,\n",
    "                 weights=1/obj_spec_photon.uncertainty.array,maxiter=100000)"
   ]
  },
  {
   "cell_type": "code",
   "execution_count": null,
   "metadata": {},
   "outputs": [],
   "source": [
    "print(new_model)"
   ]
  },
  {
   "cell_type": "code",
   "execution_count": null,
   "metadata": {},
   "outputs": [],
   "source": [
    "save_name = 'Sunkit-Spex_output.pdf'\n",
    "fit_times = f'{start} - {end}'\n",
    "\n",
    "plot_fit_results(obj_spec_counts._spectral_axis._bin_edges,obj_spec_photon._spectral_axis._bin_edges,\n",
    "                 obj_spec_counts.data << obj_spec_counts.unit,obj_spec_counts.uncertainty.array<< obj_spec_counts.unit,\n",
    "                 new_model,save_name,fit_times)"
   ]
  },
  {
   "cell_type": "code",
   "execution_count": null,
   "metadata": {},
   "outputs": [],
   "source": [
    "new_model['ThermalEmission'](obj_spec_photon._spectral_axis._bin_edges) "
   ]
  },
  {
   "cell_type": "code",
   "execution_count": null,
   "metadata": {},
   "outputs": [],
   "source": [
    "ph_model_4fit['ThermalEmission'](obj_spec_photon._spectral_axis._bin_edges) "
   ]
  },
  {
   "cell_type": "code",
   "execution_count": null,
   "metadata": {},
   "outputs": [],
   "source": [
    "new_model.fixed"
   ]
  },
  {
   "cell_type": "code",
   "execution_count": null,
   "metadata": {},
   "outputs": [],
   "source": []
  }
 ],
 "metadata": {
  "kernelspec": {
   "display_name": "sunkit-spex",
   "language": "python",
   "name": "python3"
  },
  "language_info": {
   "codemirror_mode": {
    "name": "ipython",
    "version": 3
   },
   "file_extension": ".py",
   "mimetype": "text/x-python",
   "name": "python",
   "nbconvert_exporter": "python",
   "pygments_lexer": "ipython3",
   "version": "3.12.11"
  }
 },
 "nbformat": 4,
 "nbformat_minor": 2
}
