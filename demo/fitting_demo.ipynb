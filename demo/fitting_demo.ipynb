{
 "cells": [
  {
   "cell_type": "code",
   "execution_count": 1,
   "metadata": {},
   "outputs": [],
   "source": [
    "import astropy.units as u\n",
    "import numpy as np\n",
    "import matplotlib.pyplot as plt\n",
    "\n",
    "from astropy.modeling import fitting\n",
    "from sunkit_spex.models.physical.albedo import Albedo\n",
    "from sunkit_spex.models.physical.nonthermal import ThickTarget\n",
    "from plotting.plotter import plot_fit_results\n",
    "from stats.chi import reduced_chi_squared\n",
    "from sunkit_spex.models.physical.thermal import ThermalEmission\n",
    "from sunkit_spex.models.scaling import InverseSquareFluxScaling\n",
    "from sunkit_spex.models.instrument_response import MatrixModel\n",
    "from sunkit_spex.spectrum.spectrum import SpectralAxis\n",
    "from sunkit_spex.spectrum.spectrum import Spectrum\n",
    "from sunkit_spex.extern.stix import STIXLoader\n"
   ]
  },
  {
   "cell_type": "code",
   "execution_count": null,
   "metadata": {},
   "outputs": [],
   "source": [
    "# Load in the data\n",
    "\n",
    "dir = 'data/210507/'\n",
    "spec = STIXLoader(spectrum_file=dir+'stx_spectrum_2105070034.fits',srm_file=dir+'stx_srm_2105070034.fits')\n",
    "\n",
    "spec"
   ]
  },
  {
   "cell_type": "code",
   "execution_count": null,
   "metadata": {},
   "outputs": [],
   "source": [
    "# Define an event time range and inspect the lightcurve\n",
    "\n",
    "start = \"2021-05-07T18:53:00\"\n",
    "end = \"2021-05-07T18:53:20\"\n",
    "\n",
    "spec.start_event_time=start\n",
    "spec.end_event_time=end\n",
    "\n",
    "fig = plt.figure(figsize=(9,6))\n",
    "spec.lightcurve(energy_ranges=[[4,10], [10,30], [25,50]])\n",
    "plt.show()"
   ]
  },
  {
   "cell_type": "code",
   "execution_count": 4,
   "metadata": {},
   "outputs": [],
   "source": [
    "# Select the desired energy fitting range and select the data from the data loader\n",
    "\n",
    "count_channel_bins = spec['count_channel_bins']\n",
    "indices_fit = np.where( (count_channel_bins[:,1] >= 5.0)  & (count_channel_bins[:,1] <= 55.0) )[0]\n",
    "counts = (spec['count_rate'][indices_fit] *u.ct *u.keV**-1 *u.s**-1) \n",
    "counts_err = np.array(spec['count_rate_error'][indices_fit]) \n",
    "\n",
    "srm = spec['srm'][:,indices_fit]\n"
   ]
  },
  {
   "cell_type": "code",
   "execution_count": null,
   "metadata": {},
   "outputs": [],
   "source": [
    "# Define two spectrum objects, one with the photon energy bins spectral axis and the other with the count bin spectral axis\n",
    "\n",
    "obj_spec_photon  = Spectrum(counts,uncertainty=counts_err,spectral_axis=spec['photon_channel_bins']*u.keV)\n",
    "obj_spec_counts = Spectrum(counts,uncertainty=counts_err,spectral_axis=spec['count_channel_bins'][indices_fit,:]*u.keV)\n",
    "\n",
    "\n",
    "# Use SpectralAxis to calculate energy bin centers\n",
    "\n",
    "ph_energies_centers =  obj_spec_photon._spectral_axis\n",
    "counts_energies_centers =  obj_spec_counts._spectral_axis\n"
   ]
  },
  {
   "cell_type": "code",
   "execution_count": 6,
   "metadata": {},
   "outputs": [],
   "source": [
    "# Create SRM model\n",
    "\n",
    "srm_model = MatrixModel(\n",
    "    matrix=srm, input_axis=obj_spec_photon._spectral_axis._bin_edges, \n",
    "    output_axis=obj_spec_counts._spectral_axis._bin_edges, \n",
    "    c=1 * u.ct *u.cm**2 * u.ph**-1, \n",
    "    _input_units={\"x\": u.ph *u.keV**-1 *u.s**-1 * u.cm**-2}, \n",
    "    _output_units={\"y\": u.ct* u.keV**-1 * u.s**-1}\n",
    ")"
   ]
  },
  {
   "cell_type": "code",
   "execution_count": 7,
   "metadata": {},
   "outputs": [],
   "source": [
    "# Define each model component\n",
    "\n",
    "distance = InverseSquareFluxScaling(1*u.AU)\n",
    "f_vth = ThermalEmission()\n",
    "thick = ThickTarget(break_energy=1500*u.keV,low_e_cutoff=20*u.keV)\n",
    "albedo = Albedo(energy_edges=obj_spec_photon._spectral_axis._bin_edges, theta=45*u.deg)\n",
    "\n",
    "# Create compound model for fitting\n",
    "\n",
    "ph_model_4fit = (((f_vth + thick) * distance ) | albedo)  | srm_model\n"
   ]
  },
  {
   "cell_type": "code",
   "execution_count": 13,
   "metadata": {},
   "outputs": [],
   "source": [
    "# Freeze and free parameters\n",
    "\n",
    "ph_model_4fit.theta_3.fixed = True\n",
    "\n",
    "ph_model_4fit.temperature_0.fixed = False\n",
    "ph_model_4fit.emission_measure_0.fixed = False\n",
    "\n",
    "ph_model_4fit.break_energy_1.fixed= True\n",
    "ph_model_4fit.low_e_cutoff_1.fixed = False\n",
    "ph_model_4fit.p_1.fixed = False\n",
    "ph_model_4fit.total_eflux_1.fixed = False\n"
   ]
  },
  {
   "cell_type": "code",
   "execution_count": null,
   "metadata": {},
   "outputs": [],
   "source": [
    "# Select Astropy fitter\n",
    "\n",
    "pfit = fitting.TRFLSQFitter()\n",
    "\n",
    "# Carry out fitting\n",
    "\n",
    "new_model = pfit(ph_model_4fit,obj_spec_photon._spectral_axis._bin_edges, obj_spec_photon.data,\n",
    "                 weights=1/obj_spec_photon.uncertainty.array,maxiter=100000)"
   ]
  },
  {
   "cell_type": "code",
   "execution_count": null,
   "metadata": {},
   "outputs": [],
   "source": [
    "# Take a look at the fitted model\n",
    "\n",
    "print(new_model)"
   ]
  },
  {
   "cell_type": "code",
   "execution_count": null,
   "metadata": {},
   "outputs": [],
   "source": [
    "# Calculate fit statistic\n",
    "\n",
    "red_chi_squared = reduced_chi_squared(obj_spec_counts.data << obj_spec_counts.unit, \n",
    "                                      obj_spec_counts.uncertainty.array << obj_spec_counts.unit, \n",
    "                                      new_model, obj_spec_photon._spectral_axis._bin_edges)\n",
    "\n",
    "print(\"Reduced Chi Squared = \",red_chi_squared)"
   ]
  },
  {
   "cell_type": "code",
   "execution_count": null,
   "metadata": {},
   "outputs": [],
   "source": [
    "# Use the automated plotting code provided to plot out the fit results \n",
    "\n",
    "save_name = 'Sunkit-Spex_output.pdf'\n",
    "fit_times = f'{start} - {end}'\n",
    "\n",
    "plot_fit_results(obj_spec_counts._spectral_axis._bin_edges,obj_spec_photon._spectral_axis._bin_edges,\n",
    "                 obj_spec_counts.data << obj_spec_counts.unit,obj_spec_counts.uncertainty.array << obj_spec_counts.unit,\n",
    "                 new_model,save_name,fit_times)"
   ]
  },
  {
   "cell_type": "code",
   "execution_count": null,
   "metadata": {},
   "outputs": [],
   "source": [
    "# Extract individual model component and evaluate\n",
    "\n",
    "new_model['ThermalEmission'](obj_spec_photon._spectral_axis._bin_edges) "
   ]
  },
  {
   "cell_type": "code",
   "execution_count": null,
   "metadata": {},
   "outputs": [],
   "source": [
    "# Look at which parameters were fixed and free\n",
    "\n",
    "new_model.fixed"
   ]
  },
  {
   "cell_type": "code",
   "execution_count": null,
   "metadata": {},
   "outputs": [],
   "source": [
    "# Look at fitted parameter values\n",
    "\n",
    "new_model.parameters"
   ]
  },
  {
   "cell_type": "code",
   "execution_count": null,
   "metadata": {},
   "outputs": [],
   "source": []
  },
  {
   "cell_type": "code",
   "execution_count": null,
   "metadata": {},
   "outputs": [],
   "source": []
  }
 ],
 "metadata": {
  "kernelspec": {
   "display_name": "sunkit-spex",
   "language": "python",
   "name": "sunkit-spex"
  },
  "language_info": {
   "codemirror_mode": {
    "name": "ipython",
    "version": 3
   },
   "file_extension": ".py",
   "mimetype": "text/x-python",
   "name": "python",
   "nbconvert_exporter": "python",
   "pygments_lexer": "ipython3",
   "version": "3.12.11"
  }
 },
 "nbformat": 4,
 "nbformat_minor": 2
}
